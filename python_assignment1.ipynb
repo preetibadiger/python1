{
 "cells": [
  {
   "cell_type": "code",
   "execution_count": null,
   "id": "646b586a",
   "metadata": {},
   "outputs": [],
   "source": [
    "1. In the below elements which of them are values or an expression? eg:- values can be\n",
    "integer or string and expressions will be mathematical operators.\n",
    "*\n",
    "'hello'\n",
    "-87.8\n",
    "-\n",
    "/\n",
    "+\n",
    "6\n",
    "\n",
    "ANS:\n",
    "\n",
    "*       expression\n",
    "\n",
    "'hello' value\n",
    "\n",
    "-87.8   value\n",
    "\n",
    "-       expression\n",
    "\n",
    "/       expression \n",
    "\n",
    "+       expression\n",
    "\n",
    "6       value\n"
   ]
  },
  {
   "cell_type": "markdown",
   "id": "bb1aec9e",
   "metadata": {},
   "source": []
  },
  {
   "cell_type": "code",
   "execution_count": null,
   "id": "eeca88b4",
   "metadata": {},
   "outputs": [],
   "source": [
    "2. What is the difference between string and variable?\n",
    "\n",
    "ANS:\n",
    "String: String can be written in quotes such: \"apple\", 'apple'\n",
    "\n",
    "Variable: It is the thing in which we can store data just like a container."
   ]
  },
  {
   "cell_type": "code",
   "execution_count": null,
   "id": "bafba8fa",
   "metadata": {},
   "outputs": [],
   "source": [
    "3. Describe three different data types.\n",
    "\n",
    "ANS:\n",
    "List: the list is used for storing multiple data items in a single variable.\n",
    "\n",
    "Integer: integer can store only numerical values.\n",
    "\n",
    "Float: float can store only floating values such as 233.33, 22.2, etc."
   ]
  },
  {
   "cell_type": "code",
   "execution_count": null,
   "id": "336bbd87",
   "metadata": {},
   "outputs": [],
   "source": [
    "4. What is an expression made up of? What do all expressions do?\n",
    "\n",
    "ANS:\n",
    "Expression is made up of values, containers, and mathematical operators (operands) e.g \n",
    "a = 2 + 3     and expressions are used to evaluate the values or represent the result on the screen."
   ]
  },
  {
   "cell_type": "code",
   "execution_count": null,
   "id": "4f9a8b4c",
   "metadata": {},
   "outputs": [],
   "source": [
    "5. This assignment statements, like spam = 10. What is the difference between an\n",
    "expression and a statement?\n",
    "\n",
    "ANS:\n",
    "Expression is made up of values, containers, and mathematical operators (operands) and the statement is just like \n",
    "a command that a python interpreter executes like print.    "
   ]
  },
  {
   "cell_type": "code",
   "execution_count": null,
   "id": "0d5e3839",
   "metadata": {},
   "outputs": [],
   "source": [
    "6. After running the following code, what does the variable bacon contain?\n",
    "bacon = 22\n",
    "bacon + 1"
   ]
  },
  {
   "cell_type": "code",
   "execution_count": 1,
   "id": "e02ac50a",
   "metadata": {},
   "outputs": [],
   "source": [
    "bacon = 22"
   ]
  },
  {
   "cell_type": "code",
   "execution_count": 2,
   "id": "e81d1603",
   "metadata": {},
   "outputs": [
    {
     "data": {
      "text/plain": [
       "23"
      ]
     },
     "execution_count": 2,
     "metadata": {},
     "output_type": "execute_result"
    }
   ],
   "source": [
    "bacon + 1"
   ]
  },
  {
   "cell_type": "code",
   "execution_count": null,
   "id": "600bddc7",
   "metadata": {},
   "outputs": [],
   "source": [
    "it gives 23 as execution code "
   ]
  },
  {
   "cell_type": "code",
   "execution_count": null,
   "id": "da290c7f",
   "metadata": {},
   "outputs": [],
   "source": [
    "7. What should the values of the following two terms be?\n",
    "'spam' +'spamspam'\n",
    "'spam' * 3"
   ]
  },
  {
   "cell_type": "code",
   "execution_count": 3,
   "id": "7f0bf673",
   "metadata": {},
   "outputs": [
    {
     "data": {
      "text/plain": [
       "'spamspamspam'"
      ]
     },
     "execution_count": 3,
     "metadata": {},
     "output_type": "execute_result"
    }
   ],
   "source": [
    "'spam' +'spamspam'"
   ]
  },
  {
   "cell_type": "code",
   "execution_count": 4,
   "id": "6a394a17",
   "metadata": {},
   "outputs": [
    {
     "data": {
      "text/plain": [
       "'spamspamspam'"
      ]
     },
     "execution_count": 4,
     "metadata": {},
     "output_type": "execute_result"
    }
   ],
   "source": [
    "'spam' * 3"
   ]
  },
  {
   "cell_type": "code",
   "execution_count": null,
   "id": "7f9dd3ae",
   "metadata": {},
   "outputs": [],
   "source": [
    "it will be the same"
   ]
  },
  {
   "cell_type": "code",
   "execution_count": null,
   "id": "33175a3a",
   "metadata": {},
   "outputs": [],
   "source": [
    "8. Why is eggs a valid variable name while 100 is invalid?\n",
    "\n",
    "ANS:\n",
    "    because we cant start giving variable an integer name. if we, we should begin with, a string-like \n",
    "    alphabet name then integer. e100 or eggs100 is valid"
   ]
  },
  {
   "cell_type": "code",
   "execution_count": null,
   "id": "cfa9deb9",
   "metadata": {},
   "outputs": [],
   "source": [
    "9. What three functions can be used to get the integer, floating-point number, or string\n",
    "version of a value?\n",
    "\n",
    "ANS:\n",
    "    int(), float(), str()"
   ]
  },
  {
   "cell_type": "code",
   "execution_count": null,
   "id": "b271d66b",
   "metadata": {},
   "outputs": [],
   "source": [
    "10. Why does this expression cause an error? How can you fix it?\n",
    "'I have eaten' + 99 +'burritos.'\n",
    "\n",
    "ANS:\n",
    "    because 99 is an integer it cannot be concatenated with strings, if we have to concatenate it we\n",
    "    need to do typecasting.\n",
    "    "
   ]
  },
  {
   "cell_type": "code",
   "execution_count": null,
   "id": "e566ba23",
   "metadata": {},
   "outputs": [],
   "source": []
  },
  {
   "cell_type": "code",
   "execution_count": null,
   "id": "6d6d8b13",
   "metadata": {},
   "outputs": [],
   "source": []
  }
 ],
 "metadata": {
  "kernelspec": {
   "display_name": "Python 3 (ipykernel)",
   "language": "python",
   "name": "python3"
  },
  "language_info": {
   "codemirror_mode": {
    "name": "ipython",
    "version": 3
   },
   "file_extension": ".py",
   "mimetype": "text/x-python",
   "name": "python",
   "nbconvert_exporter": "python",
   "pygments_lexer": "ipython3",
   "version": "3.9.7"
  }
 },
 "nbformat": 4,
 "nbformat_minor": 5
}
